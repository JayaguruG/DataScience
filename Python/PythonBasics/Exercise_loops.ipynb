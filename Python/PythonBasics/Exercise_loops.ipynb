{
 "cells": [
  {
   "cell_type": "markdown",
   "metadata": {},
   "source": [
    "### The questions for the exercises are given above the cells and the expected output is given below the cell. Please type the code inserting a new cell below the question because if you run the expected output cell the output would vanish! Happy learning! "
   ]
  },
  {
   "cell_type": "markdown",
   "metadata": {},
   "source": [
    "## 1. Write a Python program to find those numbers which are divisible by 7 and multiple of 5, between 1500 and 2700 (both included). "
   ]
  },
  {
   "cell_type": "code",
   "execution_count": null,
   "metadata": {},
   "outputs": [],
   "source": [
    "i = 1500\n",
    "j = 2700\n",
    "while i <= 2700:\n",
    "    if (i % 5 == 0) and (i % 7 == 0):\n",
    "        print(i)\n",
    "    i = i +1"
   ]
  },
  {
   "cell_type": "markdown",
   "metadata": {},
   "source": [
    "## 2. Write a Python program to construct the following pattern, using a nested for loop.\n"
   ]
  },
  {
   "cell_type": "code",
   "execution_count": null,
   "metadata": {},
   "outputs": [],
   "source": [
    "n = 5\n",
    "for i in range(n+1):\n",
    "    for j in range(i):\n",
    "        print('* ', end = '')\n",
    "    print('')\n",
    "\n",
    "for i in range(n-1,0,-1):\n",
    "    for j in range(i):\n",
    "        print('* ', end = '')\n",
    "    print('')"
   ]
  },
  {
   "cell_type": "markdown",
   "metadata": {},
   "source": [
    "## 3. Write a Python program to count the number of even and odd numbers from a series of numbers."
   ]
  },
  {
   "cell_type": "code",
   "execution_count": null,
   "metadata": {},
   "outputs": [],
   "source": [
    "lstNum = [2,5,24,55,12,79,100,1282,91,1000, 0]\n",
    "cntodd = 0\n",
    "cnteven = 0\n",
    "for i in lstNum:\n",
    "    if (i %2 == 0):\n",
    "        cnteven = cnteven + 1\n",
    "    else:    \n",
    "        cntodd = cntodd + 1\n",
    "print('Num of odd numbers = ', cntodd)\n",
    "print('Num of even numbers = ', cnteven)"
   ]
  },
  {
   "cell_type": "markdown",
   "metadata": {},
   "source": [
    "## 4. Write a Python program to find numbers between 100 and 400 (both included) where each digit of a number is an even number. The numbers obtained should be printed in a comma-separated sequence."
   ]
  },
  {
   "cell_type": "code",
   "execution_count": null,
   "metadata": {},
   "outputs": [],
   "source": [
    "i = 100\n",
    "j = 400\n",
    "lst = []\n",
    "while i <= j:\n",
    "    if (i % 2 == 0):\n",
    "        lst.append(i)\n",
    "    i = i + 1  \n",
    "print(lst)\n"
   ]
  },
  {
   "cell_type": "markdown",
   "metadata": {},
   "source": [
    "## 5. Write a Python program to calculate a dog's age in dog's years. Go to the editor\n",
    "Note: For the first two years, a dog year is equal to 10.5 human years. After that, each dog year equals 4 human years."
   ]
  },
  {
   "cell_type": "code",
   "execution_count": 34,
   "metadata": {},
   "outputs": [
    {
     "name": "stdin",
     "output_type": "stream",
     "text": [
      "Input a dog's age in human years: 20\n"
     ]
    },
    {
     "name": "stdout",
     "output_type": "stream",
     "text": [
      "type_dog_age:  <class 'str'>\n",
      "type_dog_age:  <class 'int'>\n",
      "The dogs age in dogs years is : 93\n"
     ]
    }
   ],
   "source": [
    "dog_age = input('''Input a dog's age in human years:''')\n",
    "print('type_dog_age: ', type(dog_age))\n",
    "dog_age = int(dog_age)\n",
    "print('type_dog_age: ', type(dog_age))\n",
    "if (dog_age == 1) or (dog_age == 2):\n",
    "    dog_yrs = dog_age * 10.5\n",
    "else:\n",
    "    dog_yrs = (2 * 10.5) + ((int(dog_age) - 2) * 4)\n",
    "print('The dog''s age in dog''s years is :', str(int(dog_yrs)))    "
   ]
  },
  {
   "cell_type": "markdown",
   "metadata": {},
   "source": [
    "## 6. Write a Python function to find the Max of three numbers."
   ]
  },
  {
   "cell_type": "code",
   "execution_count": 40,
   "metadata": {},
   "outputs": [
    {
     "name": "stdout",
     "output_type": "stream",
     "text": [
      "6\n"
     ]
    }
   ],
   "source": [
    "def grt(a, b, c):\n",
    "    if (a > b) and (a > c):\n",
    "        print(a)\n",
    "    elif (b > c):\n",
    "        print(b)\n",
    "    else:\n",
    "        print(c)\n",
    "grt(3, 6, -5)\n",
    "        "
   ]
  },
  {
   "cell_type": "markdown",
   "metadata": {},
   "source": [
    "## 7. Write a Python function that takes a number as a parameter and check the number is prime or not."
   ]
  },
  {
   "cell_type": "code",
   "execution_count": 70,
   "metadata": {},
   "outputs": [
    {
     "name": "stdin",
     "output_type": "stream",
     "text": [
      "Enter a number:  341\n"
     ]
    },
    {
     "name": "stdout",
     "output_type": "stream",
     "text": [
      "2 3 4 5 6 7 8 9 10 11 11\n",
      "341  is not a prime number\n"
     ]
    }
   ],
   "source": [
    "p = input('Enter a number: ')\n",
    "p = int(p)\n",
    "def isPrime(p):\n",
    "    for i in range(2, p):\n",
    "        #print(i,'', end='')\n",
    "        if (p % i == 0):\n",
    "            return True\n",
    "if isPrime(p):\n",
    "    print(p,' is not a prime number')\n",
    "else:\n",
    "    print(p,' is a prime number')\n",
    "    "
   ]
  },
  {
   "cell_type": "markdown",
   "metadata": {},
   "source": [
    "## 8. Write a Python function that accepts a string and calculate the number of upper case letters and lower case letters. Go to the editor\n"
   ]
  },
  {
   "cell_type": "code",
   "execution_count": 117,
   "metadata": {},
   "outputs": [
    {
     "name": "stdin",
     "output_type": "stream",
     "text": [
      "Enter the string:  Inceptz is One of The BeSt Places TO LEarn DataSciEnce \n"
     ]
    },
    {
     "name": "stdout",
     "output_type": "stream",
     "text": [
      "No. of Upper case characters : 13\n",
      "No. of Lower case characters : 32\n"
     ]
    }
   ],
   "source": [
    "#Inceptz is One of The BeSt Places TO LEarn DataSciEnce\n",
    "def checkCase(input_str):\n",
    "    #print(len(input_str))\n",
    "    cntUpper = 0\n",
    "    cntLower = 0\n",
    "    for a in range(0,len(input_str)):\n",
    "        #print(input_str[a])\n",
    "        #print(type(input_str[a]))\n",
    "        if input_str[a].isupper():\n",
    "            #print(input_str[a], 'is upper')\n",
    "            cntUpper += 1\n",
    "            #print('cntUpper is = ', cntUpper)\n",
    "        else:\n",
    "            #print(input_str[a], 'is lower')\n",
    "            cntLower += 1\n",
    "            #print('cntLower is = ', cntLower)\n",
    "    return cntUpper, cntLower  \n",
    "\n",
    "input_str = input('Enter the string: ')\n",
    "cntUpper, cntLower = checkCase(input_str.replace(' ',''))\n",
    "print('No. of Upper case characters :', cntUpper)\n",
    "print('No. of Lower case characters :', cntLower)\n"
   ]
  },
  {
   "cell_type": "code",
   "execution_count": 110,
   "metadata": {},
   "outputs": [
    {
     "data": {
      "text/plain": [
       "'InceptzisOneofTheBeStPlacesTOLEarnDataSciEnceu'"
      ]
     },
     "execution_count": 110,
     "metadata": {},
     "output_type": "execute_result"
    }
   ],
   "source": [
    "'Inceptz is One of The BeSt Places TO LEarn DataSciEnce u   '.replace(' ','')"
   ]
  },
  {
   "cell_type": "markdown",
   "metadata": {},
   "source": [
    "## 9. Write a Python program to reverse a string. "
   ]
  },
  {
   "cell_type": "code",
   "execution_count": 33,
   "metadata": {},
   "outputs": [
    {
     "name": "stdout",
     "output_type": "stream",
     "text": [
      "uoy era woh dlroWolleH"
     ]
    }
   ],
   "source": [
    "str_test = 'HelloWorld how are you'\n",
    "i = len(str_test)-1\n",
    "while i >= 0:\n",
    "    print(str_test[i], end=\"\")\n",
    "    i -= 1"
   ]
  },
  {
   "cell_type": "markdown",
   "metadata": {},
   "source": [
    "## 10. Write a Python program to find  the greatest common divisor (gcd) of two integers."
   ]
  },
  {
   "cell_type": "code",
   "execution_count": 184,
   "metadata": {},
   "outputs": [
    {
     "name": "stdout",
     "output_type": "stream",
     "text": [
      "The gcd of 2 numbers is 10\n",
      "10\n"
     ]
    }
   ],
   "source": [
    "i = 10\n",
    "j = 200\n",
    "def find_smaller(i,j):\n",
    "    if (i > j):\n",
    "        return j\n",
    "    else:\n",
    "        return i\n",
    "def find_greater(i,j):\n",
    "    if (i > j):\n",
    "        return i\n",
    "    else:\n",
    "        return j\n",
    "grt = find_greater(i,j)\n",
    "sml = find_smaller(i,j)\n",
    "if (sml == 0):\n",
    "    print('The gcd of 2 numbers is {}'.format(sml))\n",
    "else:\n",
    "    for n in range(sml,0,-1):\n",
    "        if(grt % n == 0):\n",
    "            print('The gcd of 2 numbers is {}'.format(n))\n",
    "            break\n",
    "        grt -= 1\n",
    "\n",
    "import math\n",
    "print(math.gcd(i, j))          "
   ]
  },
  {
   "cell_type": "code",
   "execution_count": 177,
   "metadata": {},
   "outputs": [
    {
     "name": "stdout",
     "output_type": "stream",
     "text": [
      "3.8.5\n"
     ]
    }
   ],
   "source": [
    "from platform import python_version\n",
    "\n",
    "print(python_version())"
   ]
  },
  {
   "cell_type": "markdown",
   "metadata": {},
   "source": [
    "## 11. Write a function to find if a string is a palindrome or not! \n",
    "eg: \n",
    "\"NAMAN\" - is a palindrome \n",
    "\"INCEPTEZ\" - is not a palindrome! "
   ]
  },
  {
   "cell_type": "code",
   "execution_count": 90,
   "metadata": {},
   "outputs": [
    {
     "name": "stdout",
     "output_type": "stream",
     "text": [
      " is a palindrome\n",
      "A is a palindrome\n",
      "NAMAN is a palindrome\n",
      "INCEPTEZ is not a palindrome\n"
     ]
    }
   ],
   "source": [
    "str_checkpalin_fst = ['','A','NAMAN', 'INCEPTEZ']\n",
    "for each_str in str_checkpalin_fst:\n",
    "    new_str = ''\n",
    "    l = len(each_str)-1\n",
    "    while l >= 0:\n",
    "        new_str = new_str + each_str[l]\n",
    "        l -= 1\n",
    "    if (new_str == each_str):\n",
    "        print('{} is a palindrome'.format(each_str))\n",
    "    else:\n",
    "        print('{} is not a palindrome'.format(each_str))"
   ]
  },
  {
   "cell_type": "markdown",
   "metadata": {},
   "source": [
    "## 12. Write a recursive function to find if a string is a palindrome or not! "
   ]
  },
  {
   "cell_type": "code",
   "execution_count": 103,
   "metadata": {},
   "outputs": [
    {
     "name": "stdout",
     "output_type": "stream",
     "text": [
      " is a palindrome\n",
      "A is a palindrome\n",
      "NAMAN is a palindrome\n",
      "INCEPTEZ is not a palindrome\n",
      "MALAYALAM is a palindrome\n"
     ]
    }
   ],
   "source": [
    "def isPalindrome(str_test, startpos, endpos):\n",
    "    if (str_test[startpos] != str_test[endpos]):\n",
    "        return False\n",
    "    if (str_test[startpos+1] == str_test[endpos-1]) and (startpos+1 <= endpos-1):\n",
    "        return isPalindrome(str_test, startpos+1, endpos-1)\n",
    "    return True\n",
    "\n",
    "str_checkpalin_fst = ['','A','NAMAN', 'INCEPTEZ', 'MALAYALAM']\n",
    "\n",
    "for each_str in str_checkpalin_fst:\n",
    "    startpos = 0\n",
    "    endpos = len(each_str) - 1\n",
    "    if len(each_str) <= 1:\n",
    "        print('{} is a palindrome'.format(each_str)) \n",
    "    elif isPalindrome(each_str, startpos, endpos):\n",
    "        print('{} is a palindrome'.format(each_str))\n",
    "    else:\n",
    "        print('{} is not a palindrome'.format(each_str))\n",
    "\n"
   ]
  },
  {
   "cell_type": "code",
   "execution_count": null,
   "metadata": {},
   "outputs": [],
   "source": []
  }
 ],
 "metadata": {
  "kernelspec": {
   "display_name": "Python 3",
   "language": "python",
   "name": "python3"
  },
  "language_info": {
   "codemirror_mode": {
    "name": "ipython",
    "version": 3
   },
   "file_extension": ".py",
   "mimetype": "text/x-python",
   "name": "python",
   "nbconvert_exporter": "python",
   "pygments_lexer": "ipython3",
   "version": "3.8.5"
  }
 },
 "nbformat": 4,
 "nbformat_minor": 4
}
