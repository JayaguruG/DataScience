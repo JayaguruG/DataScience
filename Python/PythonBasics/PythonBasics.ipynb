{
 "cells": [
  {
   "cell_type": "code",
   "execution_count": 197,
   "metadata": {},
   "outputs": [],
   "source": [
    "#single line comment"
   ]
  },
  {
   "cell_type": "code",
   "execution_count": 198,
   "metadata": {},
   "outputs": [
    {
     "data": {
      "text/plain": [
       "' multi\\nline \\ncomment\\n'"
      ]
     },
     "execution_count": 198,
     "metadata": {},
     "output_type": "execute_result"
    }
   ],
   "source": [
    "''' multi\n",
    "line \n",
    "comment\n",
    "'''"
   ]
  },
  {
   "cell_type": "code",
   "execution_count": 199,
   "metadata": {},
   "outputs": [
    {
     "name": "stdout",
     "output_type": "stream",
     "text": [
      " Volume in drive C is Windows\n",
      " Volume Serial Number is 546C-4177\n",
      "\n",
      " Directory of C:\\Users\\gjayaguru\\Inceptez-Day1-Basics_of_Python\n",
      "\n",
      "11-04-2021  09:49    <DIR>          .\n",
      "11-04-2021  09:49    <DIR>          ..\n",
      "10-04-2021  09:58    <DIR>          .ipynb_checkpoints\n",
      "10-04-2021  09:57                20 helloworld.py\n",
      "11-04-2021  09:49            11,443 Untitled.ipynb\n",
      "               2 File(s)         11,463 bytes\n",
      "               3 Dir(s)  113,147,518,976 bytes free\n"
     ]
    }
   ],
   "source": [
    "!dir"
   ]
  },
  {
   "cell_type": "code",
   "execution_count": 200,
   "metadata": {},
   "outputs": [
    {
     "data": {
      "text/plain": [
       "15"
      ]
     },
     "execution_count": 200,
     "metadata": {},
     "output_type": "execute_result"
    }
   ],
   "source": [
    "3*5"
   ]
  },
  {
   "cell_type": "code",
   "execution_count": 201,
   "metadata": {},
   "outputs": [],
   "source": [
    "import keyword"
   ]
  },
  {
   "cell_type": "code",
   "execution_count": 202,
   "metadata": {},
   "outputs": [
    {
     "data": {
      "text/plain": [
       "['False',\n",
       " 'None',\n",
       " 'True',\n",
       " 'and',\n",
       " 'as',\n",
       " 'assert',\n",
       " 'async',\n",
       " 'await',\n",
       " 'break',\n",
       " 'class',\n",
       " 'continue',\n",
       " 'def',\n",
       " 'del',\n",
       " 'elif',\n",
       " 'else',\n",
       " 'except',\n",
       " 'finally',\n",
       " 'for',\n",
       " 'from',\n",
       " 'global',\n",
       " 'if',\n",
       " 'import',\n",
       " 'in',\n",
       " 'is',\n",
       " 'lambda',\n",
       " 'nonlocal',\n",
       " 'not',\n",
       " 'or',\n",
       " 'pass',\n",
       " 'raise',\n",
       " 'return',\n",
       " 'try',\n",
       " 'while',\n",
       " 'with',\n",
       " 'yield']"
      ]
     },
     "execution_count": 202,
     "metadata": {},
     "output_type": "execute_result"
    }
   ],
   "source": [
    "keyword.kwlist"
   ]
  },
  {
   "cell_type": "code",
   "execution_count": 203,
   "metadata": {},
   "outputs": [],
   "source": [
    "A=20\n",
    "b=40"
   ]
  },
  {
   "cell_type": "code",
   "execution_count": 204,
   "metadata": {},
   "outputs": [
    {
     "name": "stdout",
     "output_type": "stream",
     "text": [
      "20\n",
      "40\n"
     ]
    }
   ],
   "source": [
    "print(A)\n",
    "print(b)"
   ]
  },
  {
   "cell_type": "code",
   "execution_count": 205,
   "metadata": {},
   "outputs": [
    {
     "name": "stdout",
     "output_type": "stream",
     "text": [
      "40\n"
     ]
    }
   ],
   "source": [
    "print(b)"
   ]
  },
  {
   "cell_type": "code",
   "execution_count": 206,
   "metadata": {},
   "outputs": [
    {
     "data": {
      "text/plain": [
       "int"
      ]
     },
     "execution_count": 206,
     "metadata": {},
     "output_type": "execute_result"
    }
   ],
   "source": [
    "c=11\n",
    "type(c)"
   ]
  },
  {
   "cell_type": "code",
   "execution_count": 207,
   "metadata": {},
   "outputs": [
    {
     "name": "stdout",
     "output_type": "stream",
     "text": [
      "20\n"
     ]
    }
   ],
   "source": [
    "print(A)"
   ]
  },
  {
   "cell_type": "code",
   "execution_count": 208,
   "metadata": {},
   "outputs": [],
   "source": [
    "sample_list = [1,23,'googlee',1+3j]"
   ]
  },
  {
   "cell_type": "code",
   "execution_count": 209,
   "metadata": {},
   "outputs": [
    {
     "data": {
      "text/plain": [
       "[1, 23, 'googlee', (1+3j)]"
      ]
     },
     "execution_count": 209,
     "metadata": {},
     "output_type": "execute_result"
    }
   ],
   "source": [
    "sample_list"
   ]
  },
  {
   "cell_type": "code",
   "execution_count": 210,
   "metadata": {},
   "outputs": [
    {
     "data": {
      "text/plain": [
       "'googlee'"
      ]
     },
     "execution_count": 210,
     "metadata": {},
     "output_type": "execute_result"
    }
   ],
   "source": [
    "sample_list[2]"
   ]
  },
  {
   "cell_type": "code",
   "execution_count": 211,
   "metadata": {},
   "outputs": [],
   "source": [
    "sam = [100,4,12,1,30,2]"
   ]
  },
  {
   "cell_type": "code",
   "execution_count": 212,
   "metadata": {},
   "outputs": [
    {
     "name": "stdout",
     "output_type": "stream",
     "text": [
      "[1, 2, 4, 12, 30, 100]\n"
     ]
    }
   ],
   "source": [
    "sam.sort()\n",
    "print(sam)"
   ]
  },
  {
   "cell_type": "code",
   "execution_count": 213,
   "metadata": {},
   "outputs": [
    {
     "name": "stdout",
     "output_type": "stream",
     "text": [
      "[100, 30, 12, 4, 2, 1]\n"
     ]
    }
   ],
   "source": [
    "sam.sort(reverse=True)\n",
    "print(sam)"
   ]
  },
  {
   "cell_type": "code",
   "execution_count": 214,
   "metadata": {},
   "outputs": [
    {
     "name": "stdout",
     "output_type": "stream",
     "text": [
      "[100, 30, 12, 4, 2, 1, 23]\n"
     ]
    }
   ],
   "source": [
    "sam.append(23)\n",
    "print(sam)"
   ]
  },
  {
   "cell_type": "code",
   "execution_count": 215,
   "metadata": {},
   "outputs": [],
   "source": [
    "sam[1] = 50"
   ]
  },
  {
   "cell_type": "code",
   "execution_count": 216,
   "metadata": {},
   "outputs": [
    {
     "data": {
      "text/plain": [
       "[100, 50, 12, 4, 2, 1, 23]"
      ]
     },
     "execution_count": 216,
     "metadata": {},
     "output_type": "execute_result"
    }
   ],
   "source": [
    "sam"
   ]
  },
  {
   "cell_type": "code",
   "execution_count": 217,
   "metadata": {},
   "outputs": [],
   "source": [
    "#sam = [30,4,13,2,5,'google']\n",
    "#sam.sort()\n",
    "#print(sam)\n",
    "#type error occurs"
   ]
  },
  {
   "cell_type": "code",
   "execution_count": 218,
   "metadata": {},
   "outputs": [],
   "source": [
    "alphabet = ['c','b','z','d','a','B','aa','D']\n",
    "alphabet.sort()"
   ]
  },
  {
   "cell_type": "code",
   "execution_count": 219,
   "metadata": {},
   "outputs": [
    {
     "name": "stdout",
     "output_type": "stream",
     "text": [
      "['B', 'D', 'a', 'aa', 'b', 'c', 'd', 'z']\n"
     ]
    }
   ],
   "source": [
    "print(alphabet)"
   ]
  },
  {
   "cell_type": "code",
   "execution_count": 220,
   "metadata": {},
   "outputs": [
    {
     "name": "stdout",
     "output_type": "stream",
     "text": [
      "['B', 'D', 'a', 'aa', 'b', 'c', 'd', 'z']\n"
     ]
    }
   ],
   "source": [
    "sortedalpha = sorted(alphabet)\n",
    "#sorts as per the ASCII value for the caps\n",
    "#ASCII - American Standard Code for Information Interchange\n",
    "print(sortedalpha)"
   ]
  },
  {
   "cell_type": "code",
   "execution_count": 221,
   "metadata": {},
   "outputs": [
    {
     "name": "stdout",
     "output_type": "stream",
     "text": [
      "[100, 50, 12, 4, 200, 2, 1, 23]\n"
     ]
    }
   ],
   "source": [
    "sam.insert(4,200)\n",
    "print(sam)"
   ]
  },
  {
   "cell_type": "code",
   "execution_count": 222,
   "metadata": {},
   "outputs": [
    {
     "name": "stdout",
     "output_type": "stream",
     "text": [
      "100\n",
      "[50, 12, 4, 200, 2, 1, 23]\n"
     ]
    }
   ],
   "source": [
    "a=sam.pop(0)\n",
    "print(a)\n",
    "print(sam)"
   ]
  },
  {
   "cell_type": "code",
   "execution_count": 223,
   "metadata": {},
   "outputs": [
    {
     "data": {
      "text/plain": [
       "[50, 12, 200, 2, 1, 23]"
      ]
     },
     "execution_count": 223,
     "metadata": {},
     "output_type": "execute_result"
    }
   ],
   "source": [
    "sam.remove(4)\n",
    "sam\n",
    "#pop removes the element on index #Index error\n",
    "#remove removes the element on element #Value error\n"
   ]
  },
  {
   "cell_type": "code",
   "execution_count": 224,
   "metadata": {},
   "outputs": [
    {
     "data": {
      "text/plain": [
       "[50, 12, 200, 2, 200, 1, 23]"
      ]
     },
     "execution_count": 224,
     "metadata": {},
     "output_type": "execute_result"
    }
   ],
   "source": [
    "sam.insert(4,200)\n",
    "sam"
   ]
  },
  {
   "cell_type": "code",
   "execution_count": 225,
   "metadata": {},
   "outputs": [
    {
     "data": {
      "text/plain": [
       "[50, 12, 200, 2, 200, 1, 23, 10]"
      ]
     },
     "execution_count": 225,
     "metadata": {},
     "output_type": "execute_result"
    }
   ],
   "source": [
    "sam.insert(40,10)\n",
    "sam"
   ]
  },
  {
   "cell_type": "code",
   "execution_count": 226,
   "metadata": {},
   "outputs": [
    {
     "data": {
      "text/plain": [
       "[50, 12, 200, 4, 200, 1, 23, 10]"
      ]
     },
     "execution_count": 226,
     "metadata": {},
     "output_type": "execute_result"
    }
   ],
   "source": [
    "sam[3]=4\n",
    "sam"
   ]
  },
  {
   "cell_type": "code",
   "execution_count": 227,
   "metadata": {},
   "outputs": [
    {
     "data": {
      "text/plain": [
       "[50, 12, 200, 4, 200, 1, 23, 10, [1, 2, 3]]"
      ]
     },
     "execution_count": 227,
     "metadata": {},
     "output_type": "execute_result"
    }
   ],
   "source": [
    "list1 = [1,2,3]\n",
    "sam.append(list1)\n",
    "sam"
   ]
  },
  {
   "cell_type": "code",
   "execution_count": 228,
   "metadata": {},
   "outputs": [],
   "source": [
    "#sorted(sam)\n",
    "#TypeError: '<' not supported between instances of 'list' and 'int'"
   ]
  },
  {
   "cell_type": "code",
   "execution_count": 243,
   "metadata": {},
   "outputs": [
    {
     "name": "stdout",
     "output_type": "stream",
     "text": [
      "[54, 12, 44, 22, 70, 52, 12]\n"
     ]
    }
   ],
   "source": [
    "#Exercise 1: Given an Input list remove the element at index 4 and add it to the 2nd pos + to the end \n",
    "#lst = [54,44,22,70,12,52]\n",
    "lst =[54,44,22,70,12,52]\n",
    "a=lst.pop(4)\n",
    "lst.insert(1,a)\n",
    "b=len(lst)\n",
    "lst.insert(b,a)\n",
    "print(lst)"
   ]
  },
  {
   "cell_type": "code",
   "execution_count": 248,
   "metadata": {},
   "outputs": [
    {
     "name": "stdout",
     "output_type": "stream",
     "text": [
      "[2, 3, 3, 1, 7, 8, 10]\n"
     ]
    }
   ],
   "source": [
    "'''Exercise 2: Given a input list and a value, go to that B's index look at the value and then insert this at index(of this value)\n",
    "lst = [2,3,1,6,7,8,10], B = 1\n",
    "lst = [2,3,1,3,6,7,8,10]\n",
    "lst = [2,1,3,6,7,8,10]'''\n",
    "\n",
    "lst = [2,3,1,6,7,8,10]\n",
    "elementA = lst[1]\n",
    "lst.pop(elementA)\n",
    "lst.insert(elementA-1, elementA)\n",
    "print(lst)"
   ]
  },
  {
   "cell_type": "code",
   "execution_count": 254,
   "metadata": {},
   "outputs": [
    {
     "data": {
      "text/plain": [
       "[22, 70, 12]"
      ]
     },
     "execution_count": 254,
     "metadata": {},
     "output_type": "execute_result"
    }
   ],
   "source": [
    "##List slicing\n",
    "lst = [54,44,22,70,12,52]\n",
    "lst[2:5]"
   ]
  },
  {
   "cell_type": "code",
   "execution_count": 1,
   "metadata": {},
   "outputs": [
    {
     "data": {
      "text/plain": [
       "[1, 3, 5, 7, 9]"
      ]
     },
     "execution_count": 1,
     "metadata": {},
     "output_type": "execute_result"
    }
   ],
   "source": [
    "lst = [1,2,3,4,5,6,7,8,9,10]\n",
    "lst[0:9:2]"
   ]
  },
  {
   "cell_type": "code",
   "execution_count": 9,
   "metadata": {},
   "outputs": [
    {
     "data": {
      "text/plain": [
       "3"
      ]
     },
     "execution_count": 9,
     "metadata": {},
     "output_type": "execute_result"
    }
   ],
   "source": [
    "lst = [1,2,3,4,5,6]\n",
    "lst.index(4)"
   ]
  },
  {
   "cell_type": "code",
   "execution_count": 10,
   "metadata": {},
   "outputs": [
    {
     "name": "stdout",
     "output_type": "stream",
     "text": [
      "[0, 1, 2, 3, 4, 5, 6, 7, 8, 9, 10]\n",
      "[0, 1, 2, 3, 4, 5, 6, 7, 8, 9]\n"
     ]
    }
   ],
   "source": [
    "lst = [0,1,2,3,4,5,6,7,8,9,10]\n",
    "print(lst[:])"
   ]
  },
  {
   "cell_type": "code",
   "execution_count": 18,
   "metadata": {},
   "outputs": [
    {
     "data": {
      "text/plain": [
       "[0, 1, 2, 3, 4, 5, 6, 7, 8, 9]"
      ]
     },
     "execution_count": 18,
     "metadata": {},
     "output_type": "execute_result"
    }
   ],
   "source": [
    "lst[:-1]"
   ]
  },
  {
   "cell_type": "code",
   "execution_count": 19,
   "metadata": {},
   "outputs": [
    {
     "data": {
      "text/plain": [
       "[0, 1, 2, 3, 4, 5, 6, 7, 8, 9, 10]"
      ]
     },
     "execution_count": 19,
     "metadata": {},
     "output_type": "execute_result"
    }
   ],
   "source": [
    "lst[-11:]"
   ]
  },
  {
   "cell_type": "code",
   "execution_count": 21,
   "metadata": {},
   "outputs": [
    {
     "data": {
      "text/plain": [
       "11"
      ]
     },
     "execution_count": 21,
     "metadata": {},
     "output_type": "execute_result"
    }
   ],
   "source": [
    "len(lst)"
   ]
  },
  {
   "cell_type": "code",
   "execution_count": 22,
   "metadata": {},
   "outputs": [
    {
     "data": {
      "text/plain": [
       "[10, 9, 8, 7, 6, 5, 4, 3, 2, 1, 0]"
      ]
     },
     "execution_count": 22,
     "metadata": {},
     "output_type": "execute_result"
    }
   ],
   "source": [
    "lst[::-1]"
   ]
  },
  {
   "cell_type": "code",
   "execution_count": 5,
   "metadata": {},
   "outputs": [
    {
     "data": {
      "text/plain": [
       "{'a': 1, 'b': 'alpha', 'c': 'beta'}"
      ]
     },
     "execution_count": 5,
     "metadata": {},
     "output_type": "execute_result"
    }
   ],
   "source": [
    "A = {'a':1,'b':'alpha','c':'beta'}\n",
    "A"
   ]
  },
  {
   "cell_type": "code",
   "execution_count": 16,
   "metadata": {},
   "outputs": [
    {
     "data": {
      "text/plain": [
       "1"
      ]
     },
     "execution_count": 16,
     "metadata": {},
     "output_type": "execute_result"
    }
   ],
   "source": [
    "A['a']"
   ]
  },
  {
   "cell_type": "code",
   "execution_count": 34,
   "metadata": {},
   "outputs": [
    {
     "data": {
      "text/plain": [
       "dict_values([1, 'alpha', 'beta'])"
      ]
     },
     "execution_count": 34,
     "metadata": {},
     "output_type": "execute_result"
    }
   ],
   "source": [
    "A.values()"
   ]
  },
  {
   "cell_type": "code",
   "execution_count": 20,
   "metadata": {},
   "outputs": [
    {
     "name": "stdout",
     "output_type": "stream",
     "text": [
      "<class 'str'>\n",
      "Hi how are you?\n",
      "15\n"
     ]
    }
   ],
   "source": [
    "a = 'Hi how are you?'\n",
    "print(type(a))\n",
    "print(a)\n",
    "print(len(a))"
   ]
  },
  {
   "cell_type": "code",
   "execution_count": 18,
   "metadata": {},
   "outputs": [
    {
     "name": "stdout",
     "output_type": "stream",
     "text": [
      " ho\n"
     ]
    }
   ],
   "source": [
    "print(a[2:5])"
   ]
  },
  {
   "cell_type": "code",
   "execution_count": 21,
   "metadata": {},
   "outputs": [
    {
     "name": "stdout",
     "output_type": "stream",
     "text": [
      "Enter a number:3\n"
     ]
    }
   ],
   "source": [
    "inp = input('Enter a number:')"
   ]
  },
  {
   "cell_type": "code",
   "execution_count": 22,
   "metadata": {},
   "outputs": [
    {
     "name": "stdout",
     "output_type": "stream",
     "text": [
      "3\n"
     ]
    }
   ],
   "source": [
    "print(inp)"
   ]
  },
  {
   "cell_type": "code",
   "execution_count": 29,
   "metadata": {},
   "outputs": [
    {
     "data": {
      "text/plain": [
       "str"
      ]
     },
     "execution_count": 29,
     "metadata": {},
     "output_type": "execute_result"
    }
   ],
   "source": [
    "type(inp)"
   ]
  },
  {
   "cell_type": "code",
   "execution_count": 27,
   "metadata": {},
   "outputs": [
    {
     "name": "stdout",
     "output_type": "stream",
     "text": [
      "HELLO HOW ARE YOU!\n",
      "Hello how are you!\n"
     ]
    }
   ],
   "source": [
    "b = 'hello how are you!'\n",
    "print(b.upper())\n",
    "print(b.capitalize())"
   ]
  },
  {
   "cell_type": "code",
   "execution_count": null,
   "metadata": {},
   "outputs": [],
   "source": []
  },
  {
   "cell_type": "code",
   "execution_count": 32,
   "metadata": {},
   "outputs": [
    {
     "name": "stdout",
     "output_type": "stream",
     "text": [
      "writing a multi line string\n",
      "which is enlcosed in triple quotes\n"
     ]
    }
   ],
   "source": [
    "#Multi line strings\n",
    "m = '''writing a multi line string\n",
    "which is enlcosed in triple quotes'''\n",
    "print(m)"
   ]
  },
  {
   "cell_type": "code",
   "execution_count": 35,
   "metadata": {},
   "outputs": [],
   "source": [
    "#Unicode characters\n",
    "#UTF-8 default format for storing characters\n"
   ]
  },
  {
   "cell_type": "code",
   "execution_count": 38,
   "metadata": {},
   "outputs": [
    {
     "data": {
      "text/plain": [
       "{'646': 'ascii',\n",
       " 'ansi_x3.4_1968': 'ascii',\n",
       " 'ansi_x3_4_1968': 'ascii',\n",
       " 'ansi_x3.4_1986': 'ascii',\n",
       " 'cp367': 'ascii',\n",
       " 'csascii': 'ascii',\n",
       " 'ibm367': 'ascii',\n",
       " 'iso646_us': 'ascii',\n",
       " 'iso_646.irv_1991': 'ascii',\n",
       " 'iso_ir_6': 'ascii',\n",
       " 'us': 'ascii',\n",
       " 'us_ascii': 'ascii',\n",
       " 'base64': 'base64_codec',\n",
       " 'base_64': 'base64_codec',\n",
       " 'big5_tw': 'big5',\n",
       " 'csbig5': 'big5',\n",
       " 'big5_hkscs': 'big5hkscs',\n",
       " 'hkscs': 'big5hkscs',\n",
       " 'bz2': 'bz2_codec',\n",
       " '037': 'cp037',\n",
       " 'csibm037': 'cp037',\n",
       " 'ebcdic_cp_ca': 'cp037',\n",
       " 'ebcdic_cp_nl': 'cp037',\n",
       " 'ebcdic_cp_us': 'cp037',\n",
       " 'ebcdic_cp_wt': 'cp037',\n",
       " 'ibm037': 'cp037',\n",
       " 'ibm039': 'cp037',\n",
       " '1026': 'cp1026',\n",
       " 'csibm1026': 'cp1026',\n",
       " 'ibm1026': 'cp1026',\n",
       " '1125': 'cp1125',\n",
       " 'ibm1125': 'cp1125',\n",
       " 'cp866u': 'cp1125',\n",
       " 'ruscii': 'cp1125',\n",
       " '1140': 'cp1140',\n",
       " 'ibm1140': 'cp1140',\n",
       " '1250': 'cp1250',\n",
       " 'windows_1250': 'cp1250',\n",
       " '1251': 'cp1251',\n",
       " 'windows_1251': 'cp1251',\n",
       " '1252': 'cp1252',\n",
       " 'windows_1252': 'cp1252',\n",
       " '1253': 'cp1253',\n",
       " 'windows_1253': 'cp1253',\n",
       " '1254': 'cp1254',\n",
       " 'windows_1254': 'cp1254',\n",
       " '1255': 'cp1255',\n",
       " 'windows_1255': 'cp1255',\n",
       " '1256': 'cp1256',\n",
       " 'windows_1256': 'cp1256',\n",
       " '1257': 'cp1257',\n",
       " 'windows_1257': 'cp1257',\n",
       " '1258': 'cp1258',\n",
       " 'windows_1258': 'cp1258',\n",
       " '273': 'cp273',\n",
       " 'ibm273': 'cp273',\n",
       " 'csibm273': 'cp273',\n",
       " '424': 'cp424',\n",
       " 'csibm424': 'cp424',\n",
       " 'ebcdic_cp_he': 'cp424',\n",
       " 'ibm424': 'cp424',\n",
       " '437': 'cp437',\n",
       " 'cspc8codepage437': 'cp437',\n",
       " 'ibm437': 'cp437',\n",
       " '500': 'cp500',\n",
       " 'csibm500': 'cp500',\n",
       " 'ebcdic_cp_be': 'cp500',\n",
       " 'ebcdic_cp_ch': 'cp500',\n",
       " 'ibm500': 'cp500',\n",
       " '775': 'cp775',\n",
       " 'cspc775baltic': 'cp775',\n",
       " 'ibm775': 'cp775',\n",
       " '850': 'cp850',\n",
       " 'cspc850multilingual': 'cp850',\n",
       " 'ibm850': 'cp850',\n",
       " '852': 'cp852',\n",
       " 'cspcp852': 'cp852',\n",
       " 'ibm852': 'cp852',\n",
       " '855': 'cp855',\n",
       " 'csibm855': 'cp855',\n",
       " 'ibm855': 'cp855',\n",
       " '857': 'cp857',\n",
       " 'csibm857': 'cp857',\n",
       " 'ibm857': 'cp857',\n",
       " '858': 'cp858',\n",
       " 'csibm858': 'cp858',\n",
       " 'ibm858': 'cp858',\n",
       " '860': 'cp860',\n",
       " 'csibm860': 'cp860',\n",
       " 'ibm860': 'cp860',\n",
       " '861': 'cp861',\n",
       " 'cp_is': 'cp861',\n",
       " 'csibm861': 'cp861',\n",
       " 'ibm861': 'cp861',\n",
       " '862': 'cp862',\n",
       " 'cspc862latinhebrew': 'cp862',\n",
       " 'ibm862': 'cp862',\n",
       " '863': 'cp863',\n",
       " 'csibm863': 'cp863',\n",
       " 'ibm863': 'cp863',\n",
       " '864': 'cp864',\n",
       " 'csibm864': 'cp864',\n",
       " 'ibm864': 'cp864',\n",
       " '865': 'cp865',\n",
       " 'csibm865': 'cp865',\n",
       " 'ibm865': 'cp865',\n",
       " '866': 'cp866',\n",
       " 'csibm866': 'cp866',\n",
       " 'ibm866': 'cp866',\n",
       " '869': 'cp869',\n",
       " 'cp_gr': 'cp869',\n",
       " 'csibm869': 'cp869',\n",
       " 'ibm869': 'cp869',\n",
       " '932': 'cp932',\n",
       " 'ms932': 'cp932',\n",
       " 'mskanji': 'cp932',\n",
       " 'ms_kanji': 'cp932',\n",
       " '949': 'cp949',\n",
       " 'ms949': 'cp949',\n",
       " 'uhc': 'cp949',\n",
       " '950': 'cp950',\n",
       " 'ms950': 'cp950',\n",
       " 'jisx0213': 'euc_jis_2004',\n",
       " 'eucjis2004': 'euc_jis_2004',\n",
       " 'euc_jis2004': 'euc_jis_2004',\n",
       " 'eucjisx0213': 'euc_jisx0213',\n",
       " 'eucjp': 'euc_jp',\n",
       " 'ujis': 'euc_jp',\n",
       " 'u_jis': 'euc_jp',\n",
       " 'euckr': 'euc_kr',\n",
       " 'korean': 'euc_kr',\n",
       " 'ksc5601': 'euc_kr',\n",
       " 'ks_c_5601': 'euc_kr',\n",
       " 'ks_c_5601_1987': 'euc_kr',\n",
       " 'ksx1001': 'euc_kr',\n",
       " 'ks_x_1001': 'euc_kr',\n",
       " 'gb18030_2000': 'gb18030',\n",
       " 'chinese': 'gb2312',\n",
       " 'csiso58gb231280': 'gb2312',\n",
       " 'euc_cn': 'gb2312',\n",
       " 'euccn': 'gb2312',\n",
       " 'eucgb2312_cn': 'gb2312',\n",
       " 'gb2312_1980': 'gb2312',\n",
       " 'gb2312_80': 'gb2312',\n",
       " 'iso_ir_58': 'gb2312',\n",
       " '936': 'gbk',\n",
       " 'cp936': 'gbk',\n",
       " 'ms936': 'gbk',\n",
       " 'hex': 'hex_codec',\n",
       " 'roman8': 'hp_roman8',\n",
       " 'r8': 'hp_roman8',\n",
       " 'csHPRoman8': 'hp_roman8',\n",
       " 'cp1051': 'hp_roman8',\n",
       " 'ibm1051': 'hp_roman8',\n",
       " 'hzgb': 'hz',\n",
       " 'hz_gb': 'hz',\n",
       " 'hz_gb_2312': 'hz',\n",
       " 'csiso2022jp': 'iso2022_jp',\n",
       " 'iso2022jp': 'iso2022_jp',\n",
       " 'iso_2022_jp': 'iso2022_jp',\n",
       " 'iso2022jp_1': 'iso2022_jp_1',\n",
       " 'iso_2022_jp_1': 'iso2022_jp_1',\n",
       " 'iso2022jp_2': 'iso2022_jp_2',\n",
       " 'iso_2022_jp_2': 'iso2022_jp_2',\n",
       " 'iso_2022_jp_2004': 'iso2022_jp_2004',\n",
       " 'iso2022jp_2004': 'iso2022_jp_2004',\n",
       " 'iso2022jp_3': 'iso2022_jp_3',\n",
       " 'iso_2022_jp_3': 'iso2022_jp_3',\n",
       " 'iso2022jp_ext': 'iso2022_jp_ext',\n",
       " 'iso_2022_jp_ext': 'iso2022_jp_ext',\n",
       " 'csiso2022kr': 'iso2022_kr',\n",
       " 'iso2022kr': 'iso2022_kr',\n",
       " 'iso_2022_kr': 'iso2022_kr',\n",
       " 'csisolatin6': 'iso8859_10',\n",
       " 'iso_8859_10': 'iso8859_10',\n",
       " 'iso_8859_10_1992': 'iso8859_10',\n",
       " 'iso_ir_157': 'iso8859_10',\n",
       " 'l6': 'iso8859_10',\n",
       " 'latin6': 'iso8859_10',\n",
       " 'thai': 'iso8859_11',\n",
       " 'iso_8859_11': 'iso8859_11',\n",
       " 'iso_8859_11_2001': 'iso8859_11',\n",
       " 'iso_8859_13': 'iso8859_13',\n",
       " 'l7': 'iso8859_13',\n",
       " 'latin7': 'iso8859_13',\n",
       " 'iso_8859_14': 'iso8859_14',\n",
       " 'iso_8859_14_1998': 'iso8859_14',\n",
       " 'iso_celtic': 'iso8859_14',\n",
       " 'iso_ir_199': 'iso8859_14',\n",
       " 'l8': 'iso8859_14',\n",
       " 'latin8': 'iso8859_14',\n",
       " 'iso_8859_15': 'iso8859_15',\n",
       " 'l9': 'iso8859_15',\n",
       " 'latin9': 'iso8859_15',\n",
       " 'iso_8859_16': 'iso8859_16',\n",
       " 'iso_8859_16_2001': 'iso8859_16',\n",
       " 'iso_ir_226': 'iso8859_16',\n",
       " 'l10': 'iso8859_16',\n",
       " 'latin10': 'iso8859_16',\n",
       " 'csisolatin2': 'iso8859_2',\n",
       " 'iso_8859_2': 'iso8859_2',\n",
       " 'iso_8859_2_1987': 'iso8859_2',\n",
       " 'iso_ir_101': 'iso8859_2',\n",
       " 'l2': 'iso8859_2',\n",
       " 'latin2': 'iso8859_2',\n",
       " 'csisolatin3': 'iso8859_3',\n",
       " 'iso_8859_3': 'iso8859_3',\n",
       " 'iso_8859_3_1988': 'iso8859_3',\n",
       " 'iso_ir_109': 'iso8859_3',\n",
       " 'l3': 'iso8859_3',\n",
       " 'latin3': 'iso8859_3',\n",
       " 'csisolatin4': 'iso8859_4',\n",
       " 'iso_8859_4': 'iso8859_4',\n",
       " 'iso_8859_4_1988': 'iso8859_4',\n",
       " 'iso_ir_110': 'iso8859_4',\n",
       " 'l4': 'iso8859_4',\n",
       " 'latin4': 'iso8859_4',\n",
       " 'csisolatincyrillic': 'iso8859_5',\n",
       " 'cyrillic': 'iso8859_5',\n",
       " 'iso_8859_5': 'iso8859_5',\n",
       " 'iso_8859_5_1988': 'iso8859_5',\n",
       " 'iso_ir_144': 'iso8859_5',\n",
       " 'arabic': 'iso8859_6',\n",
       " 'asmo_708': 'iso8859_6',\n",
       " 'csisolatinarabic': 'iso8859_6',\n",
       " 'ecma_114': 'iso8859_6',\n",
       " 'iso_8859_6': 'iso8859_6',\n",
       " 'iso_8859_6_1987': 'iso8859_6',\n",
       " 'iso_ir_127': 'iso8859_6',\n",
       " 'csisolatingreek': 'iso8859_7',\n",
       " 'ecma_118': 'iso8859_7',\n",
       " 'elot_928': 'iso8859_7',\n",
       " 'greek': 'iso8859_7',\n",
       " 'greek8': 'iso8859_7',\n",
       " 'iso_8859_7': 'iso8859_7',\n",
       " 'iso_8859_7_1987': 'iso8859_7',\n",
       " 'iso_ir_126': 'iso8859_7',\n",
       " 'csisolatinhebrew': 'iso8859_8',\n",
       " 'hebrew': 'iso8859_8',\n",
       " 'iso_8859_8': 'iso8859_8',\n",
       " 'iso_8859_8_1988': 'iso8859_8',\n",
       " 'iso_ir_138': 'iso8859_8',\n",
       " 'csisolatin5': 'iso8859_9',\n",
       " 'iso_8859_9': 'iso8859_9',\n",
       " 'iso_8859_9_1989': 'iso8859_9',\n",
       " 'iso_ir_148': 'iso8859_9',\n",
       " 'l5': 'iso8859_9',\n",
       " 'latin5': 'iso8859_9',\n",
       " 'cp1361': 'johab',\n",
       " 'ms1361': 'johab',\n",
       " 'cskoi8r': 'koi8_r',\n",
       " 'kz_1048': 'kz1048',\n",
       " 'rk1048': 'kz1048',\n",
       " 'strk1048_2002': 'kz1048',\n",
       " '8859': 'latin_1',\n",
       " 'cp819': 'latin_1',\n",
       " 'csisolatin1': 'latin_1',\n",
       " 'ibm819': 'latin_1',\n",
       " 'iso8859': 'latin_1',\n",
       " 'iso8859_1': 'latin_1',\n",
       " 'iso_8859_1': 'latin_1',\n",
       " 'iso_8859_1_1987': 'latin_1',\n",
       " 'iso_ir_100': 'latin_1',\n",
       " 'l1': 'latin_1',\n",
       " 'latin': 'latin_1',\n",
       " 'latin1': 'latin_1',\n",
       " 'maccyrillic': 'mac_cyrillic',\n",
       " 'macgreek': 'mac_greek',\n",
       " 'maciceland': 'mac_iceland',\n",
       " 'maccentraleurope': 'mac_latin2',\n",
       " 'maclatin2': 'mac_latin2',\n",
       " 'macintosh': 'mac_roman',\n",
       " 'macroman': 'mac_roman',\n",
       " 'macturkish': 'mac_turkish',\n",
       " 'ansi': 'mbcs',\n",
       " 'dbcs': 'mbcs',\n",
       " 'csptcp154': 'ptcp154',\n",
       " 'pt154': 'ptcp154',\n",
       " 'cp154': 'ptcp154',\n",
       " 'cyrillic_asian': 'ptcp154',\n",
       " 'quopri': 'quopri_codec',\n",
       " 'quoted_printable': 'quopri_codec',\n",
       " 'quotedprintable': 'quopri_codec',\n",
       " 'rot13': 'rot_13',\n",
       " 'csshiftjis': 'shift_jis',\n",
       " 'shiftjis': 'shift_jis',\n",
       " 'sjis': 'shift_jis',\n",
       " 's_jis': 'shift_jis',\n",
       " 'shiftjis2004': 'shift_jis_2004',\n",
       " 'sjis_2004': 'shift_jis_2004',\n",
       " 's_jis_2004': 'shift_jis_2004',\n",
       " 'shiftjisx0213': 'shift_jisx0213',\n",
       " 'sjisx0213': 'shift_jisx0213',\n",
       " 's_jisx0213': 'shift_jisx0213',\n",
       " 'tis260': 'tactis',\n",
       " 'tis620': 'tis_620',\n",
       " 'tis_620_0': 'tis_620',\n",
       " 'tis_620_2529_0': 'tis_620',\n",
       " 'tis_620_2529_1': 'tis_620',\n",
       " 'iso_ir_166': 'tis_620',\n",
       " 'u16': 'utf_16',\n",
       " 'utf16': 'utf_16',\n",
       " 'unicodebigunmarked': 'utf_16_be',\n",
       " 'utf_16be': 'utf_16_be',\n",
       " 'unicodelittleunmarked': 'utf_16_le',\n",
       " 'utf_16le': 'utf_16_le',\n",
       " 'u32': 'utf_32',\n",
       " 'utf32': 'utf_32',\n",
       " 'utf_32be': 'utf_32_be',\n",
       " 'utf_32le': 'utf_32_le',\n",
       " 'u7': 'utf_7',\n",
       " 'utf7': 'utf_7',\n",
       " 'unicode_1_1_utf_7': 'utf_7',\n",
       " 'u8': 'utf_8',\n",
       " 'utf': 'utf_8',\n",
       " 'utf8': 'utf_8',\n",
       " 'utf8_ucs2': 'utf_8',\n",
       " 'utf8_ucs4': 'utf_8',\n",
       " 'cp65001': 'utf_8',\n",
       " 'uu': 'uu_codec',\n",
       " 'zip': 'zlib_codec',\n",
       " 'zlib': 'zlib_codec',\n",
       " 'x_mac_japanese': 'shift_jis',\n",
       " 'x_mac_korean': 'euc_kr',\n",
       " 'x_mac_simp_chinese': 'gb2312',\n",
       " 'x_mac_trad_chinese': 'big5'}"
      ]
     },
     "execution_count": 38,
     "metadata": {},
     "output_type": "execute_result"
    }
   ],
   "source": [
    "from encodings.aliases import aliases\n",
    "aliases"
   ]
  },
  {
   "cell_type": "code",
   "execution_count": 106,
   "metadata": {},
   "outputs": [
    {
     "data": {
      "text/plain": [
       "b'\\xff\\xfeT\\x00h\\x00e\\x00 \\x00h\\x00e\\x00a\\x00d\\x00p\\x00h\\x00o\\x00n\\x00e\\x00s\\x00 \\x00a\\x00r\\x00e\\x00 \\x00w\\x00o\\x00r\\x00s\\x00t\\x00'"
      ]
     },
     "execution_count": 106,
     "metadata": {},
     "output_type": "execute_result"
    }
   ],
   "source": [
    "review = 'The headphones are worst'\n",
    "review.encode('utf-16')"
   ]
  },
  {
   "cell_type": "code",
   "execution_count": 104,
   "metadata": {},
   "outputs": [
    {
     "data": {
      "text/plain": [
       "24"
      ]
     },
     "execution_count": 104,
     "metadata": {},
     "output_type": "execute_result"
    }
   ],
   "source": [
    "len(review)"
   ]
  },
  {
   "cell_type": "code",
   "execution_count": 50,
   "metadata": {},
   "outputs": [
    {
     "data": {
      "text/plain": [
       "True"
      ]
     },
     "execution_count": 50,
     "metadata": {},
     "output_type": "execute_result"
    }
   ],
   "source": [
    "string_ip = '''jbl headphones are great with windows\n",
    "than with mac. \n",
    "Mouse is better.\n",
    "Not with other systems'''\n",
    "#string_ip\n",
    "'mac' in string_ip"
   ]
  },
  {
   "cell_type": "code",
   "execution_count": 57,
   "metadata": {},
   "outputs": [
    {
     "name": "stdout",
     "output_type": "stream",
     "text": [
      "['jbl headphones are great with windows\\nthan with mac', ' \\nMouse is better', '\\nNot with other systems']\n",
      "None\n"
     ]
    }
   ],
   "source": [
    "print(string_ip.split('.'))"
   ]
  },
  {
   "cell_type": "code",
   "execution_count": 58,
   "metadata": {},
   "outputs": [
    {
     "data": {
      "text/plain": [
       "' The headphones are worst!!!!!!!!!!!!!! Such a waste of money!'"
      ]
     },
     "execution_count": 58,
     "metadata": {},
     "output_type": "execute_result"
    }
   ],
   "source": [
    "review = '************ The headphones are worst!!!!!!!!!!!!!! Such a waste of money!*********************'\n",
    "review.strip('*')"
   ]
  },
  {
   "cell_type": "code",
   "execution_count": 59,
   "metadata": {},
   "outputs": [
    {
     "data": {
      "text/plain": [
       "'j_b_l_ _h_e_a_d_p_h_o_n_e_s_ _a_r_e_ _g_r_e_a_t_ _w_i_t_h_ _w_i_n_d_o_w_s'"
      ]
     },
     "execution_count": 59,
     "metadata": {},
     "output_type": "execute_result"
    }
   ],
   "source": [
    "#join function\n",
    "string_ip = '''jbl headphones are great with windows'''\n",
    "'_'.join(string_ip)"
   ]
  },
  {
   "cell_type": "code",
   "execution_count": 61,
   "metadata": {},
   "outputs": [],
   "source": [
    "_sep = '_'.join(string_ip.split())"
   ]
  },
  {
   "cell_type": "code",
   "execution_count": 62,
   "metadata": {},
   "outputs": [
    {
     "name": "stdout",
     "output_type": "stream",
     "text": [
      "jbl_headphones_are_great_with_windows\n"
     ]
    }
   ],
   "source": [
    "print(_sep)"
   ]
  },
  {
   "cell_type": "code",
   "execution_count": 63,
   "metadata": {},
   "outputs": [
    {
     "data": {
      "text/plain": [
       "\"Concatenate any number of strings.\\n\\nThe string whose method is called is inserted in between each given string.\\nThe result is returned as a new string.\\n\\nExample: '.'.join(['ab', 'pq', 'rs']) -> 'ab.pq.rs'\""
      ]
     },
     "execution_count": 63,
     "metadata": {},
     "output_type": "execute_result"
    }
   ],
   "source": [
    "str.join.__doc__"
   ]
  },
  {
   "cell_type": "code",
   "execution_count": 68,
   "metadata": {},
   "outputs": [
    {
     "data": {
      "text/plain": [
       "[1, 2, 3, 4, 5, 4]"
      ]
     },
     "execution_count": 68,
     "metadata": {},
     "output_type": "execute_result"
    }
   ],
   "source": [
    "lst = [1,2,3,4,5]\n",
    "lst.append(4)\n",
    "lst"
   ]
  },
  {
   "cell_type": "code",
   "execution_count": 69,
   "metadata": {},
   "outputs": [
    {
     "data": {
      "text/plain": [
       "'There are 3 oranges, 4 oranges and 5 red oranges'"
      ]
     },
     "execution_count": 69,
     "metadata": {},
     "output_type": "execute_result"
    }
   ],
   "source": [
    "comment = 'There are 3 apples, 4 oranges and 5 red apples'\n",
    "comment.replace('apples','oranges')"
   ]
  },
  {
   "cell_type": "code",
   "execution_count": 79,
   "metadata": {},
   "outputs": [
    {
     "name": "stdout",
     "output_type": "stream",
     "text": [
      "Type is : <class 'str'>\n"
     ]
    }
   ],
   "source": [
    "#Type conversion\n",
    "name = 'Jay'\n",
    "print('Type is :', type(S))"
   ]
  },
  {
   "cell_type": "code",
   "execution_count": 80,
   "metadata": {},
   "outputs": [
    {
     "data": {
      "text/plain": [
       "['J', 'a', 'y']"
      ]
     },
     "execution_count": 80,
     "metadata": {},
     "output_type": "execute_result"
    }
   ],
   "source": [
    "list(name)"
   ]
  },
  {
   "cell_type": "code",
   "execution_count": 81,
   "metadata": {},
   "outputs": [
    {
     "data": {
      "text/plain": [
       "('J', 'a', 'y')"
      ]
     },
     "execution_count": 81,
     "metadata": {},
     "output_type": "execute_result"
    }
   ],
   "source": [
    "tuple(name)"
   ]
  },
  {
   "cell_type": "code",
   "execution_count": 84,
   "metadata": {},
   "outputs": [
    {
     "data": {
      "text/plain": [
       "'ajy'"
      ]
     },
     "execution_count": 84,
     "metadata": {},
     "output_type": "execute_result"
    }
   ],
   "source": [
    "#write a code to write unique alphabets in the name in lower case\n",
    "name = name.lower()\n",
    "\"\".join(set(name))"
   ]
  },
  {
   "cell_type": "code",
   "execution_count": null,
   "metadata": {},
   "outputs": [],
   "source": [
    "#copy using '='\n",
    "#copy using 'copy' func"
   ]
  },
  {
   "cell_type": "code",
   "execution_count": 86,
   "metadata": {},
   "outputs": [],
   "source": [
    "lst1 = [1,2,3,4,5]\n",
    "lst2 = lst1\n",
    "lst2[2] = 20"
   ]
  },
  {
   "cell_type": "code",
   "execution_count": 87,
   "metadata": {},
   "outputs": [
    {
     "data": {
      "text/plain": [
       "[1, 2, 20, 4, 5]"
      ]
     },
     "execution_count": 87,
     "metadata": {},
     "output_type": "execute_result"
    }
   ],
   "source": [
    "lst2"
   ]
  },
  {
   "cell_type": "code",
   "execution_count": 88,
   "metadata": {},
   "outputs": [
    {
     "data": {
      "text/plain": [
       "[1, 2, 20, 4, 5]"
      ]
     },
     "execution_count": 88,
     "metadata": {},
     "output_type": "execute_result"
    }
   ],
   "source": [
    "lst1 "
   ]
  },
  {
   "cell_type": "code",
   "execution_count": 90,
   "metadata": {},
   "outputs": [
    {
     "data": {
      "text/plain": [
       "[1, 2, 20, 4, 5]"
      ]
     },
     "execution_count": 90,
     "metadata": {},
     "output_type": "execute_result"
    }
   ],
   "source": [
    "lst1 = [1,2,3,4,5]\n",
    "lst2 = lst1.copy()\n",
    "lst2[2] = 20\n",
    "lst2"
   ]
  },
  {
   "cell_type": "code",
   "execution_count": 91,
   "metadata": {},
   "outputs": [
    {
     "data": {
      "text/plain": [
       "[1, 2, 3, 4, 5]"
      ]
     },
     "execution_count": 91,
     "metadata": {},
     "output_type": "execute_result"
    }
   ],
   "source": [
    "lst1"
   ]
  },
  {
   "cell_type": "code",
   "execution_count": 94,
   "metadata": {},
   "outputs": [
    {
     "data": {
      "text/plain": [
       "[1, 2]"
      ]
     },
     "execution_count": 94,
     "metadata": {},
     "output_type": "execute_result"
    }
   ],
   "source": [
    "lst1[:2]"
   ]
  },
  {
   "cell_type": "code",
   "execution_count": 96,
   "metadata": {},
   "outputs": [
    {
     "name": "stdout",
     "output_type": "stream",
     "text": [
      "j\n",
      "a\n",
      "y\n"
     ]
    }
   ],
   "source": [
    "#Condition loops\n",
    "for n in name:\n",
    "    print(n)"
   ]
  },
  {
   "cell_type": "code",
   "execution_count": 101,
   "metadata": {},
   "outputs": [
    {
     "name": "stdout",
     "output_type": "stream",
     "text": [
      "Enter a number: 20\n",
      "below average\n"
     ]
    }
   ],
   "source": [
    "n = input('Enter a number: ')\n",
    "n = int(n)\n",
    "if n >= 50:\n",
    "    print('Above average')\n",
    "elif n < 50 and n>=20:\n",
    "    print('below average')\n",
    "else:\n",
    "    print('poor')\n"
   ]
  }
 ],
 "metadata": {
  "kernelspec": {
   "display_name": "Python 3",
   "language": "python",
   "name": "python3"
  },
  "language_info": {
   "codemirror_mode": {
    "name": "ipython",
    "version": 3
   },
   "file_extension": ".py",
   "mimetype": "text/x-python",
   "name": "python",
   "nbconvert_exporter": "python",
   "pygments_lexer": "ipython3",
   "version": "3.8.5"
  }
 },
 "nbformat": 4,
 "nbformat_minor": 4
}
